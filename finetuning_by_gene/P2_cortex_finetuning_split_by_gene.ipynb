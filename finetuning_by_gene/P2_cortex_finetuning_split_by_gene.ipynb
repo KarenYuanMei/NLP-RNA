{
 "cells": [
  {
   "cell_type": "code",
   "execution_count": 12,
   "id": "380b9d72-18ab-4655-ae37-8d038d770d33",
   "metadata": {},
   "outputs": [],
   "source": [
    "import random\n",
    "from Bio import SeqIO\n",
    "from collections import defaultdict\n",
    "\n",
    "def parse_fasta_by_gene(fasta_file):\n",
    "    \"\"\"\n",
    "    Parses a FASTA file and groups sequences by gene.\n",
    "    Assumes gene name is part of the sequence description.\n",
    "    \"\"\"\n",
    "    gene_dict = defaultdict(list)\n",
    "    for record in SeqIO.parse(fasta_file, \"fasta\"):\n",
    "        # Adjust the parsing according to your file's format\n",
    "        parts = record.description.split('|')  # Split the description by '|'\n",
    "        gene_name = parts[2]  # Modify this index based on where the gene name is in your file\n",
    "        gene_dict[gene_name].append(record)\n",
    "    return gene_dict\n",
    "\n",
    "\n",
    "def sample_genes(gene_dict, fraction=0.1):\n",
    "    total_genes = len(gene_dict)\n",
    "    num_to_sample = int(total_genes * fraction)\n",
    "    sampled_genes = random.sample(gene_dict.keys(), num_to_sample)\n",
    "    sampled_records = [record for gene in sampled_genes for record in gene_dict[gene]]\n",
    "    return sampled_records, sampled_genes\n",
    "\n"
   ]
  },
  {
   "cell_type": "code",
   "execution_count": 13,
   "id": "6f6abfd5-5718-4667-bbcb-b6fe6d0f988a",
   "metadata": {},
   "outputs": [
    {
     "name": "stderr",
     "output_type": "stream",
     "text": [
      "/tmp/ipykernel_1142202/1552597487.py:22: DeprecationWarning: Sampling from a set deprecated\n",
      "since Python 3.9 and will be removed in a subsequent version.\n",
      "  sampled_genes = random.sample(gene_dict.keys(), num_to_sample)\n"
     ]
    }
   ],
   "source": [
    "# Load the FASTA file and group by genes\n",
    "gene_sequences = parse_fasta_by_gene(\"/cellar/users/yumei/Documents/nlp_mRNA/P2_RNAseq_finetuning/P2_cortex_filtered_mouse_cdna_shuffled.fasta\")\n",
    "\n",
    "# Sample 10% of genes and their transcripts\n",
    "sampled_sequences, sampled_gene_names = sample_genes(gene_sequences, fraction=0.1)\n",
    "\n",
    "# Write sampled sequences to a new file\n",
    "with open(\"/cellar/users/yumei/Documents/nlp_mRNA/P2_RNAseq_finetuning_by_gene/P2_cortex_finetuning_by_gene_test.fasta\", \"w\") as output_handle:\n",
    "    SeqIO.write(sampled_sequences, output_handle, \"fasta\")\n"
   ]
  },
  {
   "cell_type": "code",
   "execution_count": 14,
   "id": "35131af6-ee20-40b2-9287-263e3c12688d",
   "metadata": {},
   "outputs": [],
   "source": [
    "# Filter out the sampled sequences from the original file and write the rest to another file\n",
    "remaining_sequences = [record for gene, records in gene_sequences.items() if gene not in sampled_gene_names for record in records]\n",
    "\n",
    "with open(\"/cellar/users/yumei/Documents/nlp_mRNA/P2_RNAseq_finetuning_by_gene/P2_cortex_finetuning_by_gene_nontest.fasta\", \"w\") as output_handle:\n",
    "    SeqIO.write(remaining_sequences, output_handle, \"fasta\")"
   ]
  },
  {
   "cell_type": "code",
   "execution_count": 16,
   "id": "4765d92e-2bcb-4c59-8a1f-72076096e1fd",
   "metadata": {},
   "outputs": [
    {
     "name": "stdout",
     "output_type": "stream",
     "text": [
      "['Gm17081', 'Frmd6', 'Creb3l2', 'Lin7b', 'Zfp395']\n"
     ]
    }
   ],
   "source": [
    "print (sampled_gene_names[:5])"
   ]
  },
  {
   "cell_type": "code",
   "execution_count": 17,
   "id": "5e53ab05-163f-41c8-9c89-86234837d265",
   "metadata": {},
   "outputs": [
    {
     "name": "stdout",
     "output_type": "stream",
     "text": [
      "Number of unique gene names: 12902\n"
     ]
    }
   ],
   "source": [
    "#double checking:\n",
    "\n",
    "from Bio import SeqIO\n",
    "\n",
    "def extract_gene_names(fasta_file):\n",
    "    gene_names = set()\n",
    "    for record in SeqIO.parse(fasta_file, \"fasta\"):\n",
    "        # Extract gene name from the record description\n",
    "        # This needs to be adjusted based on how your file's headers are formatted\n",
    "        # Example: if header is \">gene_name|other_info\", use split('|')[0]\n",
    "        gene_name = record.description.split('|')[2]  # Modify this as per your file's format\n",
    "        gene_names.add(gene_name)\n",
    "    return gene_names\n",
    "\n",
    "# Path to your FASTA file\n",
    "fasta_file = \"/cellar/users/yumei/Documents/nlp_mRNA/P2_RNAseq_finetuning/P2_cortex_filtered_mouse_cdna_shuffled.fasta\"\n",
    "\n",
    "# Extract gene names\n",
    "unique_gene_names = extract_gene_names(fasta_file)\n",
    "\n",
    "# Print the number of unique gene names\n",
    "print(f\"Number of unique gene names: {len(unique_gene_names)}\")\n"
   ]
  },
  {
   "cell_type": "code",
   "execution_count": 18,
   "id": "a5212e8a-53c2-4922-8a42-ec5fdfd7b934",
   "metadata": {},
   "outputs": [
    {
     "name": "stdout",
     "output_type": "stream",
     "text": [
      "Number of unique gene names: 1290\n"
     ]
    }
   ],
   "source": [
    "# Path to your FASTA file\n",
    "fasta_file = \"/cellar/users/yumei/Documents/nlp_mRNA/P2_RNAseq_finetuning_by_gene/P2_cortex_finetuning_by_gene_test.fasta\"\n",
    "\n",
    "# Extract gene names\n",
    "unique_gene_names = extract_gene_names(fasta_file)\n",
    "\n",
    "# Print the number of unique gene names\n",
    "print(f\"Number of unique gene names: {len(unique_gene_names)}\")\n"
   ]
  },
  {
   "cell_type": "code",
   "execution_count": 19,
   "id": "e92e5120-9ac1-42c5-b904-c3cf299b1a08",
   "metadata": {},
   "outputs": [
    {
     "name": "stdout",
     "output_type": "stream",
     "text": [
      "Number of unique gene names: 11612\n"
     ]
    }
   ],
   "source": [
    "# Path to your FASTA file\n",
    "fasta_file = \"/cellar/users/yumei/Documents/nlp_mRNA/P2_RNAseq_finetuning_by_gene/P2_cortex_finetuning_by_gene_nontest.fasta\"\n",
    "\n",
    "# Extract gene names\n",
    "unique_gene_names = extract_gene_names(fasta_file)\n",
    "\n",
    "# Print the number of unique gene names\n",
    "print(f\"Number of unique gene names: {len(unique_gene_names)}\")\n"
   ]
  },
  {
   "cell_type": "code",
   "execution_count": 21,
   "id": "21fe884f-f198-4304-8131-0019f49b9fa3",
   "metadata": {},
   "outputs": [
    {
     "name": "stdout",
     "output_type": "stream",
     "text": [
      "The gene Lin7b is not present in the file.\n"
     ]
    }
   ],
   "source": [
    "from Bio import SeqIO\n",
    "\n",
    "def is_gene_in_fasta(fasta_file, gene_name):\n",
    "    for record in SeqIO.parse(fasta_file, \"fasta\"):\n",
    "        # Extract gene name from the record description\n",
    "        # Adjust the extraction method to match your file's format\n",
    "        current_gene_name = record.description.split()[0]  # Modify as per your file's format\n",
    "        if current_gene_name == gene_name:\n",
    "            return True\n",
    "    return False\n",
    "\n",
    "# Path to your FASTA file\n",
    "fasta_file = \"/cellar/users/yumei/Documents/nlp_mRNA/P2_RNAseq_finetuning_by_gene/P2_cortex_finetuning_by_gene_nontest.fasta\"\n",
    "# Check if 'Frmd6' is in the file\n",
    "gene_name = \"Lin7b\"\n",
    "found = is_gene_in_fasta(fasta_file, gene_name)\n",
    "\n",
    "if found:\n",
    "    print(f\"The gene {gene_name} is present in the file.\")\n",
    "else:\n",
    "    print(f\"The gene {gene_name} is not present in the file.\")\n"
   ]
  },
  {
   "cell_type": "code",
   "execution_count": 22,
   "id": "bce84c64-e48f-4300-8875-b4d131cbc580",
   "metadata": {},
   "outputs": [],
   "source": [
    "#used mmseqs2 to remove similar sequences from P2_cortex_by_gene_nontest.fasta; the new file is P2_cortex_by_gene_filtered_nontest.fasta   "
   ]
  },
  {
   "cell_type": "code",
   "execution_count": 24,
   "id": "7733ad0b-8d34-4018-acb7-3642e64e74bb",
   "metadata": {},
   "outputs": [],
   "source": [
    "#shuffle the nontest file:import random\n",
    "import random\n",
    "from Bio import SeqIO\n",
    "\n",
    "def shuffle_fasta(input_fasta, output_fasta, seed=42):\n",
    "    # Set the random seed for reproducibility\n",
    "    random.seed(seed)\n",
    "\n",
    "    # Read sequences from the input file\n",
    "    with open(input_fasta, 'r') as infile:\n",
    "        sequences = list(SeqIO.parse(infile, 'fasta'))\n",
    "\n",
    "    # Shuffle the sequence list\n",
    "    random.shuffle(sequences)\n",
    "\n",
    "    # Write the shuffled sequences to the output file\n",
    "    with open(output_fasta, 'w') as outfile:\n",
    "        SeqIO.write(sequences, outfile, 'fasta')\n",
    "\n",
    "# Paths to your input and output files\n",
    "input_fasta = \"/cellar/users/yumei/Documents/nlp_mRNA/P2_RNAseq_finetuning_by_gene/P2_cortex_by_gene_filtered_nontest.fasta\"\n",
    "output_fasta = \"/cellar/users/yumei/Documents/nlp_mRNA/P2_RNAseq_finetuning_by_gene/P2_cortex_finetuning_by_gene_nontest_shuffled.fasta\"\n",
    "\n",
    "# Shuffle sequences in the FASTA file\n",
    "shuffle_fasta(input_fasta, output_fasta)\n",
    "\n",
    "\n"
   ]
  },
  {
   "cell_type": "code",
   "execution_count": 29,
   "id": "774b0863-0d96-48e4-8372-d8d654b9c09b",
   "metadata": {},
   "outputs": [
    {
     "name": "stdout",
     "output_type": "stream",
     "text": [
      "Number of unique gene names: 12902\n",
      "1290\n"
     ]
    }
   ],
   "source": [
    "#count the original number of genes:\n",
    "\n",
    "#double checking:\n",
    "\n",
    "from Bio import SeqIO\n",
    "\n",
    "def extract_gene_names(fasta_file):\n",
    "    gene_names = set()\n",
    "    for record in SeqIO.parse(fasta_file, \"fasta\"):\n",
    "        # Extract gene name from the record description\n",
    "        # This needs to be adjusted based on how your file's headers are formatted\n",
    "        # Example: if header is \">gene_name|other_info\", use split('|')[0]\n",
    "        gene_name = record.description.split('|')[2]  # Modify this as per your file's format\n",
    "        gene_names.add(gene_name)\n",
    "    return gene_names\n",
    "\n",
    "# Path to your FASTA file\n",
    "fasta_file = \"/cellar/users/yumei/Documents/nlp_mRNA/P2_RNAseq_finetuning/P2_cortex_filtered_mouse_cdna_shuffled.fasta\"\n",
    "\n",
    "# Extract gene names\n",
    "unique_gene_names = extract_gene_names(fasta_file)\n",
    "\n",
    "# Print the number of unique gene names\n",
    "print(f\"Number of unique gene names: {len(unique_gene_names)}\")\n",
    "\n",
    "# Calculate the number of gene names to sample (10% of the total)\n",
    "num_to_sample = int(0.1 * len(unique_gene_names))\n",
    "\n",
    "print (num_to_sample)"
   ]
  },
  {
   "cell_type": "code",
   "execution_count": 30,
   "id": "de1773e9-656e-4d07-a864-318b72155416",
   "metadata": {},
   "outputs": [],
   "source": [
    "def sample_no_genes(gene_dict, num_to_sample):\n",
    "    total_genes = len(gene_dict)\n",
    "    sampled_genes = random.sample(gene_dict.keys(), num_to_sample)\n",
    "    sampled_records = [record for gene in sampled_genes for record in gene_dict[gene]]\n",
    "    return sampled_records, sampled_genes\n"
   ]
  },
  {
   "cell_type": "code",
   "execution_count": 34,
   "id": "7dd20edf-e8ea-4816-9837-0842a27b2bb7",
   "metadata": {},
   "outputs": [
    {
     "name": "stdout",
     "output_type": "stream",
     "text": [
      "11588\n",
      "1290\n"
     ]
    },
    {
     "name": "stderr",
     "output_type": "stream",
     "text": [
      "/tmp/ipykernel_1142202/3078029525.py:3: DeprecationWarning: Sampling from a set deprecated\n",
      "since Python 3.9 and will be removed in a subsequent version.\n",
      "  sampled_genes = random.sample(gene_dict.keys(), num_to_sample)\n"
     ]
    }
   ],
   "source": [
    "# Load the FASTA file and group by genes\n",
    "gene_sequences = parse_fasta_by_gene(\"/cellar/users/yumei/Documents/nlp_mRNA/P2_RNAseq_finetuning_by_gene/P2_cortex_finetuning_by_gene_nontest_shuffled.fasta\")\n",
    "print (len(gene_sequences))\n",
    "print (num_to_sample)\n",
    "# Sample 10% of genes and their transcripts\n",
    "sampled_sequences, sampled_gene_names = sample_no_genes(gene_sequences, num_to_sample)\n",
    "\n",
    "# Write sampled sequences to a new file\n",
    "with open(\"/cellar/users/yumei/Documents/nlp_mRNA/P2_RNAseq_finetuning_by_gene/P2_cortex_finetuning_by_gene_validation.fasta\", \"w\") as output_handle:\n",
    "    SeqIO.write(sampled_sequences, output_handle, \"fasta\")\n"
   ]
  },
  {
   "cell_type": "code",
   "execution_count": 35,
   "id": "c8e910f4-ea26-430f-a366-72aed5edf08c",
   "metadata": {},
   "outputs": [],
   "source": [
    "# Filter out the sampled sequences from the original file and write the rest to another file\n",
    "remaining_sequences = [record for gene, records in gene_sequences.items() if gene not in sampled_gene_names for record in records]\n",
    "\n",
    "with open(\"/cellar/users/yumei/Documents/nlp_mRNA/P2_RNAseq_finetuning_by_gene/P2_cortex_finetuning_by_gene_nonvalidation.fasta\", \"w\") as output_handle:\n",
    "    SeqIO.write(remaining_sequences, output_handle, \"fasta\")"
   ]
  },
  {
   "cell_type": "code",
   "execution_count": 36,
   "id": "d37b29d7-a6e7-49d3-9320-9fa531a90a3e",
   "metadata": {},
   "outputs": [
    {
     "name": "stdout",
     "output_type": "stream",
     "text": [
      "Number of common gene names: 0\n"
     ]
    }
   ],
   "source": [
    "from Bio import SeqIO\n",
    "\n",
    "def extract_gene_names(fasta_file):\n",
    "    gene_names = set()\n",
    "    for record in SeqIO.parse(fasta_file, \"fasta\"):\n",
    "        # Extract gene name from the record description\n",
    "        # Adjust this based on your file's header format\n",
    "        gene_name = record.description.split('|')[2]  # Modify this as per your file's format\n",
    "        gene_names.add(gene_name)\n",
    "    return gene_names\n",
    "\n",
    "# Paths to your FASTA files\n",
    "fasta_file1 = \"P2_cortex_by_gene_filtered_nonvalidation.fasta\"\n",
    "fasta_file2 = \"P2_cortex_finetuning_by_gene_validation.fasta\"\n",
    "\n",
    "# Extract gene names from both files\n",
    "gene_names_file1 = extract_gene_names(fasta_file1)\n",
    "gene_names_file2 = extract_gene_names(fasta_file2)\n",
    "\n",
    "# Find common gene names\n",
    "common_gene_names = gene_names_file1.intersection(gene_names_file2)\n",
    "\n",
    "# Print the results\n",
    "print(f\"Number of common gene names: {len(common_gene_names)}\")\n",
    "if len(common_gene_names) > 0:\n",
    "    print(\"Common gene names:\")\n",
    "    for name in common_gene_names:\n",
    "        print(name)\n"
   ]
  },
  {
   "cell_type": "code",
   "execution_count": 37,
   "id": "9d2192a9-8762-482f-83a9-5c4d92713992",
   "metadata": {},
   "outputs": [
    {
     "name": "stdout",
     "output_type": "stream",
     "text": [
      "Number of common gene names: 0\n"
     ]
    }
   ],
   "source": [
    "from Bio import SeqIO\n",
    "\n",
    "def extract_gene_names(fasta_file):\n",
    "    gene_names = set()\n",
    "    for record in SeqIO.parse(fasta_file, \"fasta\"):\n",
    "        # Extract gene name from the record description\n",
    "        # Adjust this based on your file's header format\n",
    "        gene_name = record.description.split('|')[2]  # Modify this as per your file's format\n",
    "        gene_names.add(gene_name)\n",
    "    return gene_names\n",
    "\n",
    "# Paths to your FASTA files\n",
    "fasta_file1 = \"P2_cortex_by_gene_filtered_nonvalidation.fasta\"\n",
    "fasta_file2 = \"P2_cortex_finetuning_by_gene_test.fasta\"\n",
    "\n",
    "# Extract gene names from both files\n",
    "gene_names_file1 = extract_gene_names(fasta_file1)\n",
    "gene_names_file2 = extract_gene_names(fasta_file2)\n",
    "\n",
    "# Find common gene names\n",
    "common_gene_names = gene_names_file1.intersection(gene_names_file2)\n",
    "\n",
    "# Print the results\n",
    "print(f\"Number of common gene names: {len(common_gene_names)}\")\n",
    "if len(common_gene_names) > 0:\n",
    "    print(\"Common gene names:\")\n",
    "    for name in common_gene_names:\n",
    "        print(name)\n"
   ]
  },
  {
   "cell_type": "code",
   "execution_count": null,
   "id": "f2bb48ad-f1e9-4766-b28b-3a359eae7a10",
   "metadata": {},
   "outputs": [],
   "source": []
  }
 ],
 "metadata": {
  "kernelspec": {
   "display_name": "nlp-rna",
   "language": "python",
   "name": "nlp-rna"
  },
  "language_info": {
   "codemirror_mode": {
    "name": "ipython",
    "version": 3
   },
   "file_extension": ".py",
   "mimetype": "text/x-python",
   "name": "python",
   "nbconvert_exporter": "python",
   "pygments_lexer": "ipython3",
   "version": "3.9.13"
  }
 },
 "nbformat": 4,
 "nbformat_minor": 5
}
